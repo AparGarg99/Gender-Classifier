{
 "cells": [
  {
   "cell_type": "code",
   "execution_count": 1,
   "id": "475ee6ca",
   "metadata": {},
   "outputs": [],
   "source": [
    "from packages import *"
   ]
  },
  {
   "cell_type": "code",
   "execution_count": 2,
   "id": "042b1f34",
   "metadata": {},
   "outputs": [],
   "source": [
    "def preprocess(names_df, train=True):\n",
    "    # Lowercase\n",
    "    names_df['name'] = names_df['name'].str.lower()\n",
    "    \n",
    "    # if name provided has more than 1 word, take 1st word\n",
    "    names_df['name'] = names_df['name'].apply(lambda x:x.split()[0])\n",
    "\n",
    "    # Remove accent\n",
    "    names_df['name'] = names_df['name'].apply(lambda x:unidecode.unidecode(x))\n",
    "    \n",
    "    # Remove non-alphabet characters\n",
    "    names_df['name'] = [\n",
    "        \"\".join([\n",
    "            char\n",
    "            for char in name\n",
    "            if char.isalpha()==True\n",
    "        ])\n",
    "        for name in names_df['name']\n",
    "    ]\n",
    "    \n",
    "    # drop duplicate rows\n",
    "    names_df = names_df.drop_duplicates().reset_index(drop=True)\n",
    "    \n",
    "    # drop NaN\n",
    "    names_df = names_df.dropna().reset_index(drop=True)\n",
    "\n",
    "    # Split individual characters\n",
    "    names_df['name'] = [list(name) for name in names_df['name']]\n",
    "\n",
    "    # Pad names with spaces to make all names same length\n",
    "    name_length = 20\n",
    "    names_df['name'] = [\n",
    "        (name + [' ']*name_length)[:name_length] \n",
    "        for name in names_df['name']\n",
    "    ]\n",
    "\n",
    "    # Encode Characters to unique numbers\n",
    "    # we encode ‘ ’ (space) to 0, ‘a’ to 1, ‘b’ to 2, and so on\n",
    "    names_df['name'] = [\n",
    "        [\n",
    "            max(0.0, ord(char)-96.0) \n",
    "            for char in name\n",
    "        ]\n",
    "        for name in names_df['name']\n",
    "    ]\n",
    "    \n",
    "    # Encode Gender to Numbers\n",
    "    if train:\n",
    "        names_df['gender'] = [\n",
    "            0 if gender=='F' else 1\n",
    "            for gender in names_df['gender']\n",
    "        ]\n",
    "    \n",
    "    return names_df"
   ]
  },
  {
   "cell_type": "code",
   "execution_count": 3,
   "id": "9b9f1ded",
   "metadata": {},
   "outputs": [],
   "source": [
    "# load model\n",
    "pred_model = load_model('models/BiLSTM_GC.h5')"
   ]
  },
  {
   "cell_type": "code",
   "execution_count": 4,
   "id": "a84c2fca",
   "metadata": {},
   "outputs": [],
   "source": [
    "# Input names\n",
    "names = ['Joe','Kamala']"
   ]
  },
  {
   "cell_type": "code",
   "execution_count": 5,
   "id": "47afba72",
   "metadata": {},
   "outputs": [],
   "source": [
    "# Convert to dataframe\n",
    "pred_df = pd.DataFrame({'name': names})"
   ]
  },
  {
   "cell_type": "code",
   "execution_count": 6,
   "id": "8da49293",
   "metadata": {},
   "outputs": [],
   "source": [
    "# Preprocess\n",
    "pred_df = preprocess(pred_df, train=False)"
   ]
  },
  {
   "cell_type": "code",
   "execution_count": 7,
   "id": "f7f39c43",
   "metadata": {},
   "outputs": [],
   "source": [
    "# Predictions\n",
    "result = pred_model.predict(np.asarray(pred_df['name'].values.tolist())).squeeze(axis=1)"
   ]
  },
  {
   "cell_type": "code",
   "execution_count": 8,
   "id": "fe65c23d",
   "metadata": {},
   "outputs": [
    {
     "data": {
      "text/html": [
       "<div>\n",
       "<style scoped>\n",
       "    .dataframe tbody tr th:only-of-type {\n",
       "        vertical-align: middle;\n",
       "    }\n",
       "\n",
       "    .dataframe tbody tr th {\n",
       "        vertical-align: top;\n",
       "    }\n",
       "\n",
       "    .dataframe thead th {\n",
       "        text-align: right;\n",
       "    }\n",
       "</style>\n",
       "<table border=\"1\" class=\"dataframe\">\n",
       "  <thead>\n",
       "    <tr style=\"text-align: right;\">\n",
       "      <th></th>\n",
       "      <th>Name</th>\n",
       "      <th>Predicted Gender</th>\n",
       "      <th>Probability</th>\n",
       "    </tr>\n",
       "  </thead>\n",
       "  <tbody>\n",
       "    <tr>\n",
       "      <th>0</th>\n",
       "      <td>Joe</td>\n",
       "      <td>Male</td>\n",
       "      <td>0.57</td>\n",
       "    </tr>\n",
       "    <tr>\n",
       "      <th>1</th>\n",
       "      <td>Kamala</td>\n",
       "      <td>Female</td>\n",
       "      <td>0.99</td>\n",
       "    </tr>\n",
       "  </tbody>\n",
       "</table>\n",
       "</div>"
      ],
      "text/plain": [
       "     Name Predicted Gender  Probability\n",
       "0     Joe             Male         0.57\n",
       "1  Kamala           Female         0.99"
      ]
     },
     "execution_count": 8,
     "metadata": {},
     "output_type": "execute_result"
    }
   ],
   "source": [
    "# Format the output\n",
    "pred_df['Predicted Gender'] = ['Male' if logit > 0.5 else 'Female' for logit in result]\n",
    "\n",
    "pred_df['Probability'] = [logit if logit > 0.5 else 1.0 - logit for logit in result]\n",
    "\n",
    "pred_df['Probability'] = pred_df['Probability'].round(2)\n",
    "\n",
    "pred_df['name'] = names\n",
    "\n",
    "pred_df.rename(columns={'name': 'Name'}, inplace=True)\n",
    "\n",
    "pred_df.drop_duplicates(inplace=True)\n",
    "\n",
    "pred_df.head()"
   ]
  }
 ],
 "metadata": {
  "kernelspec": {
   "display_name": "Python 3 (ipykernel)",
   "language": "python",
   "name": "python3"
  },
  "language_info": {
   "codemirror_mode": {
    "name": "ipython",
    "version": 3
   },
   "file_extension": ".py",
   "mimetype": "text/x-python",
   "name": "python",
   "nbconvert_exporter": "python",
   "pygments_lexer": "ipython3",
   "version": "3.7.0"
  }
 },
 "nbformat": 4,
 "nbformat_minor": 5
}
