{
 "cells": [
  {
   "cell_type": "markdown",
   "id": "80a3cdf9",
   "metadata": {},
   "source": [
    "# Import Packages"
   ]
  },
  {
   "cell_type": "code",
   "execution_count": 1,
   "id": "cMED_tRF7PYV",
   "metadata": {
    "id": "cMED_tRF7PYV"
   },
   "outputs": [],
   "source": [
    "from packages import *"
   ]
  },
  {
   "cell_type": "markdown",
   "id": "f194acae",
   "metadata": {},
   "source": [
    "# Read Dataset"
   ]
  },
  {
   "cell_type": "code",
   "execution_count": 2,
   "id": "6e54a52d",
   "metadata": {
    "colab": {
     "base_uri": "https://localhost:8080/",
     "height": 206
    },
    "id": "6e54a52d",
    "outputId": "3ac1eb7c-b81d-43a6-9ca8-42b662d20088"
   },
   "outputs": [
    {
     "data": {
      "text/html": [
       "<div>\n",
       "<style scoped>\n",
       "    .dataframe tbody tr th:only-of-type {\n",
       "        vertical-align: middle;\n",
       "    }\n",
       "\n",
       "    .dataframe tbody tr th {\n",
       "        vertical-align: top;\n",
       "    }\n",
       "\n",
       "    .dataframe thead th {\n",
       "        text-align: right;\n",
       "    }\n",
       "</style>\n",
       "<table border=\"1\" class=\"dataframe\">\n",
       "  <thead>\n",
       "    <tr style=\"text-align: right;\">\n",
       "      <th></th>\n",
       "      <th>name</th>\n",
       "      <th>gender</th>\n",
       "    </tr>\n",
       "  </thead>\n",
       "  <tbody>\n",
       "    <tr>\n",
       "      <th>0</th>\n",
       "      <td>Aaban&amp;&amp;</td>\n",
       "      <td>M</td>\n",
       "    </tr>\n",
       "    <tr>\n",
       "      <th>1</th>\n",
       "      <td>Aabha*</td>\n",
       "      <td>F</td>\n",
       "    </tr>\n",
       "    <tr>\n",
       "      <th>2</th>\n",
       "      <td>Aabid</td>\n",
       "      <td>M</td>\n",
       "    </tr>\n",
       "    <tr>\n",
       "      <th>3</th>\n",
       "      <td>Aabriella</td>\n",
       "      <td>F</td>\n",
       "    </tr>\n",
       "    <tr>\n",
       "      <th>4</th>\n",
       "      <td>Aada_</td>\n",
       "      <td>F</td>\n",
       "    </tr>\n",
       "  </tbody>\n",
       "</table>\n",
       "</div>"
      ],
      "text/plain": [
       "        name gender\n",
       "0    Aaban&&      M\n",
       "1     Aabha*      F\n",
       "2      Aabid      M\n",
       "3  Aabriella      F\n",
       "4      Aada_      F"
      ]
     },
     "execution_count": 2,
     "metadata": {},
     "output_type": "execute_result"
    }
   ],
   "source": [
    "names_df = pd.read_csv('name_gender.csv')\n",
    "names_df.head()"
   ]
  },
  {
   "cell_type": "markdown",
   "id": "4d40c5fc",
   "metadata": {},
   "source": [
    "# Preprocess Data"
   ]
  },
  {
   "cell_type": "code",
   "execution_count": 3,
   "id": "bb677fb5",
   "metadata": {},
   "outputs": [],
   "source": [
    "# check if any first name contains more than 1 word\n",
    "for i in names_df['name']:\n",
    "    if(len(i.split())>1):\n",
    "        print(i)"
   ]
  },
  {
   "cell_type": "code",
   "execution_count": 3,
   "id": "372668cb",
   "metadata": {
    "colab": {
     "base_uri": "https://localhost:8080/",
     "height": 206
    },
    "id": "372668cb",
    "outputId": "be2d18e4-d816-4fe8-cf22-bfabb363fe11"
   },
   "outputs": [
    {
     "data": {
      "text/html": [
       "<div>\n",
       "<style scoped>\n",
       "    .dataframe tbody tr th:only-of-type {\n",
       "        vertical-align: middle;\n",
       "    }\n",
       "\n",
       "    .dataframe tbody tr th {\n",
       "        vertical-align: top;\n",
       "    }\n",
       "\n",
       "    .dataframe thead th {\n",
       "        text-align: right;\n",
       "    }\n",
       "</style>\n",
       "<table border=\"1\" class=\"dataframe\">\n",
       "  <thead>\n",
       "    <tr style=\"text-align: right;\">\n",
       "      <th></th>\n",
       "      <th>name</th>\n",
       "      <th>gender</th>\n",
       "    </tr>\n",
       "  </thead>\n",
       "  <tbody>\n",
       "    <tr>\n",
       "      <th>0</th>\n",
       "      <td>[1.0, 1.0, 2.0, 1.0, 14.0, 0.0, 0.0, 0.0, 0.0,...</td>\n",
       "      <td>1</td>\n",
       "    </tr>\n",
       "    <tr>\n",
       "      <th>1</th>\n",
       "      <td>[1.0, 1.0, 2.0, 8.0, 1.0, 0.0, 0.0, 0.0, 0.0, ...</td>\n",
       "      <td>0</td>\n",
       "    </tr>\n",
       "    <tr>\n",
       "      <th>2</th>\n",
       "      <td>[1.0, 1.0, 2.0, 9.0, 4.0, 0.0, 0.0, 0.0, 0.0, ...</td>\n",
       "      <td>1</td>\n",
       "    </tr>\n",
       "    <tr>\n",
       "      <th>3</th>\n",
       "      <td>[1.0, 1.0, 2.0, 18.0, 9.0, 5.0, 12.0, 12.0, 1....</td>\n",
       "      <td>0</td>\n",
       "    </tr>\n",
       "    <tr>\n",
       "      <th>4</th>\n",
       "      <td>[1.0, 1.0, 4.0, 1.0, 0.0, 0.0, 0.0, 0.0, 0.0, ...</td>\n",
       "      <td>0</td>\n",
       "    </tr>\n",
       "  </tbody>\n",
       "</table>\n",
       "</div>"
      ],
      "text/plain": [
       "                                                name  gender\n",
       "0  [1.0, 1.0, 2.0, 1.0, 14.0, 0.0, 0.0, 0.0, 0.0,...       1\n",
       "1  [1.0, 1.0, 2.0, 8.0, 1.0, 0.0, 0.0, 0.0, 0.0, ...       0\n",
       "2  [1.0, 1.0, 2.0, 9.0, 4.0, 0.0, 0.0, 0.0, 0.0, ...       1\n",
       "3  [1.0, 1.0, 2.0, 18.0, 9.0, 5.0, 12.0, 12.0, 1....       0\n",
       "4  [1.0, 1.0, 4.0, 1.0, 0.0, 0.0, 0.0, 0.0, 0.0, ...       0"
      ]
     },
     "execution_count": 3,
     "metadata": {},
     "output_type": "execute_result"
    }
   ],
   "source": [
    "def preprocess(names_df, train=True):\n",
    "    # Lowercase\n",
    "    names_df['name'] = names_df['name'].str.lower()\n",
    "\n",
    "    # Remove accent\n",
    "    names_df['name'] = names_df['name'].apply(lambda x:unidecode.unidecode(x))\n",
    "    \n",
    "    # Remove non-alphabet characters\n",
    "    names_df['name'] = [\n",
    "        \"\".join([\n",
    "            char\n",
    "            for char in name\n",
    "            if char.isalpha()==True\n",
    "        ])\n",
    "        for name in names_df['name']\n",
    "    ]\n",
    "    \n",
    "    # drop duplicate rows\n",
    "    names_df = names_df.drop_duplicates().reset_index(drop=True)\n",
    "    \n",
    "    # drop NaN\n",
    "    names_df = names_df.dropna().reset_index(drop=True)\n",
    "    \n",
    "    # get name with maximum no. of characters (to be used for padding)\n",
    "    name_length = max(names_df['name'].map(len))\n",
    "\n",
    "    # Split individual characters\n",
    "    names_df['name'] = [list(name) for name in names_df['name']]\n",
    "\n",
    "    # Pad names with spaces to make all names same length\n",
    "    name_length = name_length + 5\n",
    "    names_df['name'] = [\n",
    "        (name + [' ']*name_length)[:name_length] \n",
    "        for name in names_df['name']\n",
    "    ]\n",
    "\n",
    "    # Encode Characters to unique numbers\n",
    "    # we encode ‘ ’ (space) to 0, ‘a’ to 1, ‘b’ to 2, and so on\n",
    "    names_df['name'] = [\n",
    "        [\n",
    "            max(0.0, ord(char)-96.0) \n",
    "            for char in name\n",
    "        ]\n",
    "        for name in names_df['name']\n",
    "    ]\n",
    "    \n",
    "    # Encode Gender to Numbers\n",
    "    if train:\n",
    "        names_df['gender'] = [\n",
    "            0 if gender=='F' else 1\n",
    "            for gender in names_df['gender']\n",
    "        ]\n",
    "    \n",
    "    return names_df\n",
    "\n",
    "names_df = preprocess(names_df)\n",
    "names_df.head()"
   ]
  },
  {
   "cell_type": "code",
   "execution_count": 4,
   "id": "d17c9ff9",
   "metadata": {
    "colab": {
     "base_uri": "https://localhost:8080/"
    },
    "id": "d17c9ff9",
    "outputId": "1f37d954-bbf9-4e86-c189-e6919f9317c4"
   },
   "outputs": [
    {
     "data": {
      "text/plain": [
       "(95025, 2)"
      ]
     },
     "execution_count": 4,
     "metadata": {},
     "output_type": "execute_result"
    }
   ],
   "source": [
    "names_df.shape"
   ]
  },
  {
   "cell_type": "code",
   "execution_count": 5,
   "id": "BVVU3GYhPGp3",
   "metadata": {
    "colab": {
     "base_uri": "https://localhost:8080/"
    },
    "id": "BVVU3GYhPGp3",
    "outputId": "186a0da4-0eef-458e-fd2b-6c565e94559e"
   },
   "outputs": [
    {
     "data": {
      "text/plain": [
       "0    60304\n",
       "1    34721\n",
       "Name: gender, dtype: int64"
      ]
     },
     "execution_count": 5,
     "metadata": {},
     "output_type": "execute_result"
    }
   ],
   "source": [
    "names_df['gender'].value_counts()"
   ]
  },
  {
   "cell_type": "markdown",
   "id": "8c1f60d8",
   "metadata": {},
   "source": [
    "# Train-test split"
   ]
  },
  {
   "cell_type": "code",
   "execution_count": 8,
   "id": "45a7c7ad",
   "metadata": {
    "colab": {
     "base_uri": "https://localhost:8080/"
    },
    "id": "45a7c7ad",
    "outputId": "07196e7a-8e52-4d0a-eadb-f739c1cf87ea",
    "scrolled": false
   },
   "outputs": [
    {
     "name": "stdout",
     "output_type": "stream",
     "text": [
      "Training Class Distribution: Counter({0: 48243, 1: 27777})\n",
      "Testing Class Distribution: Counter({0: 12061, 1: 6944})\n"
     ]
    }
   ],
   "source": [
    "# Split the data into 80% training and 20% testing.\n",
    "X = np.asarray(names_df['name'].values.tolist())\n",
    "y = np.asarray(names_df['gender'].values.tolist())\n",
    "\n",
    "X_train, X_test, y_train, y_test = train_test_split(X,\n",
    "                                                    y,\n",
    "                                                    test_size=0.2,\n",
    "                                                    random_state=42,\n",
    "                                                    stratify = y)\n",
    "\n",
    "print('Training Class Distribution:',Counter(y_train))\n",
    "print('Testing Class Distribution:',Counter(y_test))"
   ]
  },
  {
   "cell_type": "markdown",
   "id": "b33993d2",
   "metadata": {},
   "source": [
    "# Modeling"
   ]
  },
  {
   "cell_type": "code",
   "execution_count": 6,
   "id": "0bc8ef39",
   "metadata": {
    "id": "0bc8ef39"
   },
   "outputs": [],
   "source": [
    "# Define model\n",
    "def lstm_model(num_alphabets=27, name_length=50, embedding_dim=256):\n",
    "    model = Sequential()\n",
    "    \n",
    "    # Embedding layer: to “embed” each input character’s encoded number into a dense 256 dimension vector\n",
    "    model.add(Embedding(num_alphabets, embedding_dim, input_length=name_length))\n",
    "    \n",
    "    # Bidirectional LSTM layer: read the sequence of character embeddings from the previous step and output a single vector representing that sequence\n",
    "    model.add(Bidirectional(LSTM(units=128, recurrent_dropout=0.2, dropout=0.2)))\n",
    "    \n",
    "    # Final Dense layer: to output a single value close to 0 for ‘F’ or close to 1 for ‘M’\n",
    "    model.add(Dense(1, activation=\"sigmoid\"))\n",
    " \n",
    "    model.compile(loss='binary_crossentropy',\n",
    "                  optimizer=Adam(learning_rate=0.001),\n",
    "                  metrics=['accuracy'])\n",
    "\n",
    "    return model"
   ]
  },
  {
   "cell_type": "code",
   "execution_count": 7,
   "id": "6923cd09",
   "metadata": {
    "colab": {
     "base_uri": "https://localhost:8080/"
    },
    "id": "6923cd09",
    "outputId": "9ab2e9ad-f7e5-42be-8e2d-d918db6d52e9"
   },
   "outputs": [
    {
     "name": "stdout",
     "output_type": "stream",
     "text": [
      "Model: \"sequential\"\n",
      "_________________________________________________________________\n",
      "Layer (type)                 Output Shape              Param #   \n",
      "=================================================================\n",
      "embedding (Embedding)        (None, 20, 256)           6912      \n",
      "_________________________________________________________________\n",
      "bidirectional (Bidirectional (None, 256)               394240    \n",
      "_________________________________________________________________\n",
      "dense (Dense)                (None, 1)                 257       \n",
      "=================================================================\n",
      "Total params: 401,409\n",
      "Trainable params: 401,409\n",
      "Non-trainable params: 0\n",
      "_________________________________________________________________\n"
     ]
    }
   ],
   "source": [
    "# Instantiate the model\n",
    "name_length = len(names_df['name'][0])\n",
    "model = lstm_model(name_length=name_length)\n",
    "model.summary()"
   ]
  },
  {
   "cell_type": "code",
   "execution_count": 9,
   "id": "cd375c0a",
   "metadata": {
    "id": "cd375c0a"
   },
   "outputs": [],
   "source": [
    "# callbacks\n",
    "# EarlyStopping callback to stop training once the model starts to overfit.\n",
    "es = EarlyStopping(monitor='val_accuracy',\n",
    "                  min_delta=1e-3,\n",
    "                  patience=5,\n",
    "                  mode='max',\n",
    "                  restore_best_weights=True,\n",
    "                  verbose=0)"
   ]
  },
  {
   "cell_type": "code",
   "execution_count": 10,
   "id": "9e931163",
   "metadata": {
    "colab": {
     "base_uri": "https://localhost:8080/"
    },
    "id": "9e931163",
    "outputId": "0a566125-9fa0-4d87-baa2-c41003f356a9"
   },
   "outputs": [
    {
     "data": {
      "text/plain": [
       "{0: 0.7878863254772713, 1: 1.3683983151528243}"
      ]
     },
     "execution_count": 10,
     "metadata": {},
     "output_type": "execute_result"
    }
   ],
   "source": [
    "# assign class weights to handle class imbalance\n",
    "class_weights = compute_class_weight(class_weight = \"balanced\", classes = np.unique(y_train), y = y_train)\n",
    "class_weights = dict(zip(np.unique(y_train), class_weights))\n",
    "class_weights"
   ]
  },
  {
   "cell_type": "code",
   "execution_count": 11,
   "id": "9bff78b2",
   "metadata": {
    "colab": {
     "base_uri": "https://localhost:8080/"
    },
    "id": "9bff78b2",
    "outputId": "dd3d977a-60b3-44d1-9522-29f18e05d152"
   },
   "outputs": [
    {
     "name": "stdout",
     "output_type": "stream",
     "text": [
      "Epoch 1/30\n",
      "951/951 [==============================] - 109s 114ms/step - loss: 0.4421 - accuracy: 0.7930 - val_loss: 0.3751 - val_accuracy: 0.8382\n",
      "Epoch 2/30\n",
      "951/951 [==============================] - 106s 112ms/step - loss: 0.3654 - accuracy: 0.8388 - val_loss: 0.3547 - val_accuracy: 0.8468\n",
      "Epoch 3/30\n",
      "951/951 [==============================] - 107s 112ms/step - loss: 0.3398 - accuracy: 0.8522 - val_loss: 0.3189 - val_accuracy: 0.8636\n",
      "Epoch 4/30\n",
      "951/951 [==============================] - 105s 110ms/step - loss: 0.3150 - accuracy: 0.8628 - val_loss: 0.3062 - val_accuracy: 0.8708\n",
      "Epoch 5/30\n",
      "951/951 [==============================] - 101s 106ms/step - loss: 0.2912 - accuracy: 0.8743 - val_loss: 0.2922 - val_accuracy: 0.8758\n",
      "Epoch 6/30\n",
      "951/951 [==============================] - 102s 107ms/step - loss: 0.2701 - accuracy: 0.8862 - val_loss: 0.2928 - val_accuracy: 0.8765\n",
      "Epoch 7/30\n",
      "951/951 [==============================] - 102s 107ms/step - loss: 0.2520 - accuracy: 0.8944 - val_loss: 0.2758 - val_accuracy: 0.8844\n",
      "Epoch 8/30\n",
      "951/951 [==============================] - 104s 109ms/step - loss: 0.2341 - accuracy: 0.9020 - val_loss: 0.2653 - val_accuracy: 0.8915\n",
      "Epoch 9/30\n",
      "951/951 [==============================] - 104s 109ms/step - loss: 0.2187 - accuracy: 0.9080 - val_loss: 0.2452 - val_accuracy: 0.8995\n",
      "Epoch 10/30\n",
      "951/951 [==============================] - 105s 111ms/step - loss: 0.2047 - accuracy: 0.9152 - val_loss: 0.2578 - val_accuracy: 0.8971\n",
      "Epoch 11/30\n",
      "951/951 [==============================] - 105s 110ms/step - loss: 0.1920 - accuracy: 0.9208 - val_loss: 0.2549 - val_accuracy: 0.8989\n",
      "Epoch 12/30\n",
      "951/951 [==============================] - 106s 111ms/step - loss: 0.1789 - accuracy: 0.9252 - val_loss: 0.2507 - val_accuracy: 0.9014\n",
      "Epoch 13/30\n",
      "951/951 [==============================] - 104s 110ms/step - loss: 0.1684 - accuracy: 0.9301 - val_loss: 0.2578 - val_accuracy: 0.9024\n",
      "Epoch 14/30\n",
      "951/951 [==============================] - 103s 108ms/step - loss: 0.1583 - accuracy: 0.9341 - val_loss: 0.2384 - val_accuracy: 0.9071\n",
      "Epoch 15/30\n",
      "951/951 [==============================] - 103s 108ms/step - loss: 0.1486 - accuracy: 0.9388 - val_loss: 0.2440 - val_accuracy: 0.9088\n",
      "Epoch 16/30\n",
      "951/951 [==============================] - 105s 110ms/step - loss: 0.1416 - accuracy: 0.9417 - val_loss: 0.2543 - val_accuracy: 0.9041\n",
      "Epoch 17/30\n",
      "951/951 [==============================] - 102s 108ms/step - loss: 0.1314 - accuracy: 0.9456 - val_loss: 0.2507 - val_accuracy: 0.9069\n",
      "Epoch 18/30\n",
      "951/951 [==============================] - 100s 106ms/step - loss: 0.1282 - accuracy: 0.9472 - val_loss: 0.2704 - val_accuracy: 0.9031\n",
      "Epoch 19/30\n",
      "951/951 [==============================] - 95s 100ms/step - loss: 0.1211 - accuracy: 0.9501 - val_loss: 0.2610 - val_accuracy: 0.9066\n",
      "Epoch 20/30\n",
      "951/951 [==============================] - 94s 99ms/step - loss: 0.1161 - accuracy: 0.9522 - val_loss: 0.2620 - val_accuracy: 0.9077\n"
     ]
    }
   ],
   "source": [
    "# model training\n",
    "history = model.fit(X_train,\n",
    "                    y_train,\n",
    "                    batch_size = 64,\n",
    "                    epochs = 30,\n",
    "                    shuffle = True,\n",
    "                    validation_split = 0.2,\n",
    "                    class_weight = class_weights,\n",
    "                    callbacks = [es])"
   ]
  },
  {
   "cell_type": "code",
   "execution_count": 12,
   "id": "d1290e76",
   "metadata": {
    "id": "d1290e76"
   },
   "outputs": [],
   "source": [
    "# Save the trained model to reuse while serving the web app\n",
    "model.save('models/BiLSTM_GC.h5')"
   ]
  },
  {
   "cell_type": "code",
   "execution_count": 13,
   "id": "7192e440",
   "metadata": {
    "id": "7192e440"
   },
   "outputs": [
    {
     "data": {
      "text/plain": [
       "<matplotlib.legend.Legend at 0x1b94bb30828>"
      ]
     },
     "execution_count": 13,
     "metadata": {},
     "output_type": "execute_result"
    },
    {
     "data": {
      "image/png": "[encoded data removed]",
      "text/plain": [
       "<Figure size 432x288 with 1 Axes>"
      ]
     },
     "metadata": {
      "needs_background": "light"
     },
     "output_type": "display_data"
    }
   ],
   "source": [
    "# Plot accuracies vs epoch graph\n",
    "plt.plot(history.history['accuracy'], label='train')\n",
    "plt.plot(history.history['val_accuracy'], label='val')\n",
    "plt.xlabel('Epochs')\n",
    "plt.ylabel('Accuracy')\n",
    "plt.legend()"
   ]
  },
  {
   "cell_type": "code",
   "execution_count": 14,
   "id": "b8a4fb99",
   "metadata": {
    "id": "b8a4fb99"
   },
   "outputs": [
    {
     "data": {
      "text/plain": [
       "<matplotlib.legend.Legend at 0x1b94bbb3240>"
      ]
     },
     "execution_count": 14,
     "metadata": {},
     "output_type": "execute_result"
    },
    {
     "data": {
      "image/png": "[encoded data removed]",
      "text/plain": [
       "<Figure size 432x288 with 1 Axes>"
      ]
     },
     "metadata": {
      "needs_background": "light"
     },
     "output_type": "display_data"
    }
   ],
   "source": [
    "# Plot loss vs epoch graph\n",
    "plt.plot(history.history['loss'], label='train')\n",
    "plt.plot(history.history['val_loss'], label='val')\n",
    "plt.xlabel('Epochs')\n",
    "plt.ylabel('Accuracy')\n",
    "plt.legend()"
   ]
  },
  {
   "cell_type": "markdown",
   "id": "069daee9",
   "metadata": {},
   "source": [
    "# Testing"
   ]
  },
  {
   "cell_type": "code",
   "execution_count": 15,
   "id": "2bbff8c6",
   "metadata": {
    "id": "2bbff8c6"
   },
   "outputs": [
    {
     "name": "stdout",
     "output_type": "stream",
     "text": [
      "****************************************************************************************************\n",
      "              precision    recall  f1-score   support\n",
      "\n",
      "      Female       0.94      0.91      0.93     12061\n",
      "        Male       0.85      0.90      0.88      6944\n",
      "\n",
      "    accuracy                           0.91     19005\n",
      "   macro avg       0.90      0.91      0.90     19005\n",
      "weighted avg       0.91      0.91      0.91     19005\n",
      "\n"
     ]
    },
    {
     "data": {
      "image/png": "[encoded data removed]",
      "text/plain": [
       "<Figure size 432x288 with 2 Axes>"
      ]
     },
     "metadata": {
      "needs_background": "light"
     },
     "output_type": "display_data"
    }
   ],
   "source": [
    "# Display classification report and confusion matrix on test set\n",
    "def test_report(clf): \n",
    "    y_pred = clf.predict(X_test)\n",
    "    y_pred    = [int(round(i[0],0)) for i in y_pred]\n",
    "    \n",
    "    labels = ['Female','Male']\n",
    "    \n",
    "    array = confusion_matrix(y_test, y_pred)\n",
    "    df_cm = pd.DataFrame(array, index = labels, columns = labels)\n",
    "    \n",
    "    plt.title(\"Confusion Matrix\")\n",
    "    s = sns.heatmap(df_cm, annot=True, cmap='copper', fmt='g')\n",
    "    s.set(xlabel='Predicted Label', ylabel='True Label')\n",
    "    print('*'*100)\n",
    "    \n",
    "    print(classification_report(y_test, y_pred, target_names = labels))\n",
    "\n",
    "test_report(model)"
   ]
  }
 ],
 "metadata": {
  "accelerator": "GPU",
  "colab": {
   "collapsed_sections": [],
   "name": "Untitled.ipynb",
   "provenance": []
  },
  "kernelspec": {
   "display_name": "Python 3 (ipykernel)",
   "language": "python",
   "name": "python3"
  },
  "language_info": {
   "codemirror_mode": {
    "name": "ipython",
    "version": 3
   },
   "file_extension": ".py",
   "mimetype": "text/x-python",
   "name": "python",
   "nbconvert_exporter": "python",
   "pygments_lexer": "ipython3",
   "version": "3.7.0"
  }
 },
 "nbformat": 4,
 "nbformat_minor": 5
}
